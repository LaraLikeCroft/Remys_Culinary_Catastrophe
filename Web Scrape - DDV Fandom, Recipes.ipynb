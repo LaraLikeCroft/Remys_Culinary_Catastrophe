{
 "cells":[
  {
   "cell_type":"code",
   "source":[
    "from bs4 import BeautifulSoup\n",
    "import requests"
   ],
   "execution_count":2,
   "outputs":[
    
   ],
   "metadata":{
    "datalore":{
     "node_id":"ETNrARU5pLGcu76xhmX09y",
     "type":"CODE",
     "hide_input_from_viewers":false,
     "hide_output_from_viewers":false,
     "report_properties":{
      "rowId":"vZ7cshlcsRoWxyv9TT5a7Q"
     }
    }
   }
  },
  {
   "cell_type":"code",
   "source":[
    "url = 'https:\/\/dreamlightvalleywiki.com\/Cooking'\n",
    "\n",
    "page = requests.get(url)\n",
    "\n",
    "soup = BeautifulSoup(page.text, 'html')"
   ],
   "execution_count":3,
   "outputs":[
    
   ],
   "metadata":{
    "datalore":{
     "node_id":"240esgdvTkkNJZ6ZTL9zOu",
     "type":"CODE",
     "hide_input_from_viewers":false,
     "hide_output_from_viewers":false,
     "report_properties":{
      "rowId":"pu1zhfyJDRJy93OaC5OvFF"
     }
    }
   }
  },
  {
   "cell_type":"code",
   "source":[
    "#soup.find('table')"
   ],
   "execution_count":17,
   "outputs":[
    
   ],
   "metadata":{
    "datalore":{
     "node_id":"jPLpgKMleTcx1lXwMM6iQh",
     "type":"CODE",
     "hide_input_from_viewers":false,
     "hide_output_from_viewers":false,
     "report_properties":{
      "rowId":"jZOKlnLS8iv9LyqIZnOdkh"
     }
    }
   }
  },
  {
   "cell_type":"code",
   "source":[
    "find_table = soup.find_all('table')[1]\n",
    "##print(find_table)"
   ],
   "execution_count":5,
   "outputs":[
    
   ],
   "metadata":{
    "datalore":{
     "node_id":"OnsvoMQK6eOwZIGSnhYe0F",
     "type":"CODE",
     "hide_input_from_viewers":false,
     "hide_output_from_viewers":false,
     "report_properties":{
      "rowId":"1gZeUcbV7UIPYIu9sVwrXv"
     }
    }
   }
  },
  {
   "cell_type":"code",
   "source":[
    "find_meals_table = soup.find('table', class_ = 'wikitable sortable')\n",
    "##<table class=\"wikitable sortable\">\n",
    "##print(find_meals_table)"
   ],
   "execution_count":6,
   "outputs":[
    
   ],
   "metadata":{
    "datalore":{
     "node_id":"fRuGGbKtFzB9vWB1iToccy",
     "type":"CODE",
     "hide_input_from_viewers":false,
     "hide_output_from_viewers":false,
     "report_properties":{
      "rowId":"QaqAVDnTVwZlaad6qGfo4u"
     }
    }
   }
  },
  {
   "cell_type":"code",
   "source":[
    "table = soup.find_all('table')[1]\n",
    "##print(table)"
   ],
   "execution_count":7,
   "outputs":[
    
   ],
   "metadata":{
    "datalore":{
     "node_id":"cGjuiA6mrvtgif8L2ePaKD",
     "type":"CODE",
     "hide_input_from_viewers":false,
     "hide_output_from_viewers":false,
     "report_properties":{
      "rowId":"TvKQMGKBZUzzYTi2PIG5nz"
     }
    }
   }
  },
  {
   "cell_type":"code",
   "source":[
    "meals = table.find_all('th')"
   ],
   "execution_count":8,
   "outputs":[
    
   ],
   "metadata":{
    "datalore":{
     "node_id":"afMtlnNeq4cPY5f9qAardq",
     "type":"CODE",
     "hide_input_from_viewers":false,
     "hide_output_from_viewers":false,
     "report_properties":{
      "rowId":"UqjHOgNzF363eKOKKIDta4"
     }
    }
   }
  },
  {
   "cell_type":"code",
   "source":[
    "meals_headers = [headers.text.strip() for headers in meals]\n",
    "print(meals_headers)"
   ],
   "execution_count":9,
   "outputs":[
    {
     "name":"stdout",
     "text":[
      "['Image', 'Name', 'Type', 'Stars', 'Energy', 'Sell Price', 'Ingredients']\n"
     ],
     "output_type":"stream"
    }
   ],
   "metadata":{
    "datalore":{
     "node_id":"w9rn5mqHteDoXdNmfzR6G9",
     "type":"CODE",
     "hide_input_from_viewers":false,
     "hide_output_from_viewers":false,
     "report_properties":{
      "rowId":"M7fgAbTdEXbKZdmJmhGnv8"
     }
    }
   }
  },
  {
   "cell_type":"code",
   "source":[
    "import pandas as pd"
   ],
   "execution_count":10,
   "outputs":[
    
   ],
   "metadata":{
    "datalore":{
     "node_id":"2TaxlUgcMeGPx8YVe3GFER",
     "type":"CODE",
     "hide_input_from_viewers":false,
     "hide_output_from_viewers":false,
     "report_properties":{
      "rowId":"9HWeNxrmxVadSEKqpY8jUf"
     }
    }
   }
  },
  {
   "cell_type":"code",
   "source":[
    "df = pd.DataFrame(columns = meals_headers)\n",
    "df"
   ],
   "execution_count":11,
   "outputs":[
    {
     "data":{
      "text\/html":[
       "<div>\n",
       "<style scoped>\n",
       "    .dataframe tbody tr th:only-of-type {\n",
       "        vertical-align: middle;\n",
       "    }\n",
       "\n",
       "    .dataframe tbody tr th {\n",
       "        vertical-align: top;\n",
       "    }\n",
       "\n",
       "    .dataframe thead th {\n",
       "        text-align: right;\n",
       "    }\n",
       "<\/style>\n",
       "<table border=\"1\" class=\"dataframe\">\n",
       "  <thead>\n",
       "    <tr style=\"text-align: right;\">\n",
       "      <th><\/th>\n",
       "      <th>Image<\/th>\n",
       "      <th>Name<\/th>\n",
       "      <th>Type<\/th>\n",
       "      <th>Stars<\/th>\n",
       "      <th>Energy<\/th>\n",
       "      <th>Sell Price<\/th>\n",
       "      <th>Ingredients<\/th>\n",
       "    <\/tr>\n",
       "  <\/thead>\n",
       "  <tbody>\n",
       "  <\/tbody>\n",
       "<\/table>\n",
       "<\/div>"
      ]
     },
     "metadata":{
      
     },
     "output_type":"display_data"
    }
   ],
   "metadata":{
    "datalore":{
     "node_id":"AXomVmCjeNFOeCLORkATXp",
     "type":"CODE",
     "hide_input_from_viewers":false,
     "hide_output_from_viewers":false,
     "report_properties":{
      "rowId":"NUeRRVft3T06FwXoahgE8E"
     }
    }
   }
  },
  {
   "cell_type":"code",
   "source":[
    "column_data = table.find_all('tr')"
   ],
   "execution_count":12,
   "outputs":[
    
   ],
   "metadata":{
    "datalore":{
     "node_id":"kx784iGpLrw3eRxUzVxEmt",
     "type":"CODE",
     "hide_input_from_viewers":false,
     "hide_output_from_viewers":false,
     "report_properties":{
      "rowId":"gfvJ8mXWTFBRuDIM5JLqpl"
     }
    }
   }
  },
  {
   "cell_type":"code",
   "source":[
    "for row in column_data[1:]:\n",
    "    row_data = row.find_all('td')\n",
    "    indv_row_data = [data.text.strip() for data in row_data]\n",
    "    \n",
    "    length = len(df)\n",
    "    df.loc[length] = indv_row_data"
   ],
   "execution_count":13,
   "outputs":[
    
   ],
   "metadata":{
    "datalore":{
     "node_id":"iUr37xmNqDxoSUsX1a17wm",
     "type":"CODE",
     "hide_input_from_viewers":false,
     "hide_output_from_viewers":false,
     "report_properties":{
      "rowId":"0sIOdJtfli02AkhbMKeRe9"
     }
    }
   }
  },
  {
   "cell_type":"code",
   "source":[
    "df"
   ],
   "execution_count":14,
   "outputs":[
    {
     "data":{
      "text\/html":[
       "<div>\n",
       "<style scoped>\n",
       "    .dataframe tbody tr th:only-of-type {\n",
       "        vertical-align: middle;\n",
       "    }\n",
       "\n",
       "    .dataframe tbody tr th {\n",
       "        vertical-align: top;\n",
       "    }\n",
       "\n",
       "    .dataframe thead th {\n",
       "        text-align: right;\n",
       "    }\n",
       "<\/style>\n",
       "<table border=\"1\" class=\"dataframe\">\n",
       "  <thead>\n",
       "    <tr style=\"text-align: right;\">\n",
       "      <th><\/th>\n",
       "      <th>Image<\/th>\n",
       "      <th>Name<\/th>\n",
       "      <th>Type<\/th>\n",
       "      <th>Stars<\/th>\n",
       "      <th>Energy<\/th>\n",
       "      <th>Sell Price<\/th>\n",
       "      <th>Ingredients<\/th>\n",
       "    <\/tr>\n",
       "  <\/thead>\n",
       "  <tbody>\n",
       "    <tr>\n",
       "      <th>0<\/th>\n",
       "      <td><\/td>\n",
       "      <td>Arendellian Pickled Herring<\/td>\n",
       "      <td>Appetizers<\/td>\n",
       "      <td>★★★★★<\/td>\n",
       "      <td>+2,102<\/td>\n",
       "      <td>556<\/td>\n",
       "      <td>Herring Lemon Onion Garlic Any Spice<\/td>\n",
       "    <\/tr>\n",
       "    <tr>\n",
       "      <th>1<\/th>\n",
       "      <td><\/td>\n",
       "      <td>Bell Pepper Puffs<\/td>\n",
       "      <td>Appetizers<\/td>\n",
       "      <td>★★★☆☆<\/td>\n",
       "      <td>+1,272<\/td>\n",
       "      <td>606<\/td>\n",
       "      <td>Bell Pepper Egg Cheese<\/td>\n",
       "    <\/tr>\n",
       "    <tr>\n",
       "      <th>2<\/th>\n",
       "      <td><\/td>\n",
       "      <td>Buñuelos<\/td>\n",
       "      <td>Appetizers<\/td>\n",
       "      <td>★★★★☆<\/td>\n",
       "      <td>+1,881<\/td>\n",
       "      <td>948<\/td>\n",
       "      <td>Wheat Cheese Milk Egg<\/td>\n",
       "    <\/tr>\n",
       "    <tr>\n",
       "      <th>3<\/th>\n",
       "      <td><\/td>\n",
       "      <td>Cheese Platter<\/td>\n",
       "      <td>Appetizers<\/td>\n",
       "      <td>★☆☆☆☆<\/td>\n",
       "      <td>+482<\/td>\n",
       "      <td>216<\/td>\n",
       "      <td>Cheese<\/td>\n",
       "    <\/tr>\n",
       "    <tr>\n",
       "      <th>4<\/th>\n",
       "      <td><\/td>\n",
       "      <td>Chili Pepper Puffs<\/td>\n",
       "      <td>Appetizers<\/td>\n",
       "      <td>★★★☆☆<\/td>\n",
       "      <td>+1,382<\/td>\n",
       "      <td>669<\/td>\n",
       "      <td>Chili Pepper Egg Cheese<\/td>\n",
       "    <\/tr>\n",
       "    <tr>\n",
       "      <th>...<\/th>\n",
       "      <td>...<\/td>\n",
       "      <td>...<\/td>\n",
       "      <td>...<\/td>\n",
       "      <td>...<\/td>\n",
       "      <td>...<\/td>\n",
       "      <td>...<\/td>\n",
       "      <td>...<\/td>\n",
       "    <\/tr>\n",
       "    <tr>\n",
       "      <th>185<\/th>\n",
       "      <td><\/td>\n",
       "      <td>Waffles<\/td>\n",
       "      <td>Desserts<\/td>\n",
       "      <td>★★★★☆<\/td>\n",
       "      <td>+1,455<\/td>\n",
       "      <td>706<\/td>\n",
       "      <td>Wheat\\n Milk\\n Egg\\n Any Sweet ( Sugarcane only)<\/td>\n",
       "    <\/tr>\n",
       "    <tr>\n",
       "      <th>186<\/th>\n",
       "      <td><\/td>\n",
       "      <td>Wedding Cake<\/td>\n",
       "      <td>Desserts<\/td>\n",
       "      <td>★★★★★<\/td>\n",
       "      <td>+1,680<\/td>\n",
       "      <td>785<\/td>\n",
       "      <td>Butter Sugarcane Vanilla Egg Wheat<\/td>\n",
       "    <\/tr>\n",
       "    <tr>\n",
       "      <th>187<\/th>\n",
       "      <td><\/td>\n",
       "      <td>Whimsical Pie<\/td>\n",
       "      <td>Desserts<\/td>\n",
       "      <td>★★★☆☆<\/td>\n",
       "      <td>+1,497<\/td>\n",
       "      <td>32<\/td>\n",
       "      <td>Dreamlight Fruit Wheat Butter<\/td>\n",
       "    <\/tr>\n",
       "    <tr>\n",
       "      <th>188<\/th>\n",
       "      <td><\/td>\n",
       "      <td>Wonderland Cookies<\/td>\n",
       "      <td>Desserts<\/td>\n",
       "      <td>★★★★☆<\/td>\n",
       "      <td>+970<\/td>\n",
       "      <td>406<\/td>\n",
       "      <td>Butter Sugarcane Vanilla Wheat<\/td>\n",
       "    <\/tr>\n",
       "    <tr>\n",
       "      <th>189<\/th>\n",
       "      <td><\/td>\n",
       "      <td>Yule Log<\/td>\n",
       "      <td>Desserts<\/td>\n",
       "      <td>★★★★☆<\/td>\n",
       "      <td>+2,147<\/td>\n",
       "      <td>213<\/td>\n",
       "      <td>Wheat Cocoa Bean Vanilla Cherry<\/td>\n",
       "    <\/tr>\n",
       "  <\/tbody>\n",
       "<\/table>\n",
       "<p>190 rows × 7 columns<\/p>\n",
       "<\/div>"
      ]
     },
     "metadata":{
      
     },
     "output_type":"display_data"
    }
   ],
   "metadata":{
    "datalore":{
     "node_id":"BG6JvgM7QhpTqBngnkJjV4",
     "type":"CODE",
     "hide_input_from_viewers":false,
     "hide_output_from_viewers":false,
     "report_properties":{
      "rowId":"cuAiWcCHNYAoguPdql9z7A"
     }
    }
   }
  },
  {
   "cell_type":"code",
   "source":[
    "#df.drop_duplicates()\n",
    "df = df.drop(columns=['Image', 'Energy', 'Sell Price'])\n",
    "df"
   ],
   "execution_count":19,
   "outputs":[
    {
     "data":{
      "text\/html":[
       "<div>\n",
       "<style scoped>\n",
       "    .dataframe tbody tr th:only-of-type {\n",
       "        vertical-align: middle;\n",
       "    }\n",
       "\n",
       "    .dataframe tbody tr th {\n",
       "        vertical-align: top;\n",
       "    }\n",
       "\n",
       "    .dataframe thead th {\n",
       "        text-align: right;\n",
       "    }\n",
       "<\/style>\n",
       "<table border=\"1\" class=\"dataframe\">\n",
       "  <thead>\n",
       "    <tr style=\"text-align: right;\">\n",
       "      <th><\/th>\n",
       "      <th>Name<\/th>\n",
       "      <th>Type<\/th>\n",
       "      <th>Stars<\/th>\n",
       "      <th>Ingredients<\/th>\n",
       "    <\/tr>\n",
       "  <\/thead>\n",
       "  <tbody>\n",
       "    <tr>\n",
       "      <th>0<\/th>\n",
       "      <td>Arendellian Pickled Herring<\/td>\n",
       "      <td>Appetizers<\/td>\n",
       "      <td>★★★★★<\/td>\n",
       "      <td>Herring Lemon Onion Garlic Any Spice<\/td>\n",
       "    <\/tr>\n",
       "    <tr>\n",
       "      <th>1<\/th>\n",
       "      <td>Bell Pepper Puffs<\/td>\n",
       "      <td>Appetizers<\/td>\n",
       "      <td>★★★☆☆<\/td>\n",
       "      <td>Bell Pepper Egg Cheese<\/td>\n",
       "    <\/tr>\n",
       "    <tr>\n",
       "      <th>2<\/th>\n",
       "      <td>Buñuelos<\/td>\n",
       "      <td>Appetizers<\/td>\n",
       "      <td>★★★★☆<\/td>\n",
       "      <td>Wheat Cheese Milk Egg<\/td>\n",
       "    <\/tr>\n",
       "    <tr>\n",
       "      <th>3<\/th>\n",
       "      <td>Cheese Platter<\/td>\n",
       "      <td>Appetizers<\/td>\n",
       "      <td>★☆☆☆☆<\/td>\n",
       "      <td>Cheese<\/td>\n",
       "    <\/tr>\n",
       "    <tr>\n",
       "      <th>4<\/th>\n",
       "      <td>Chili Pepper Puffs<\/td>\n",
       "      <td>Appetizers<\/td>\n",
       "      <td>★★★☆☆<\/td>\n",
       "      <td>Chili Pepper Egg Cheese<\/td>\n",
       "    <\/tr>\n",
       "    <tr>\n",
       "      <th>...<\/th>\n",
       "      <td>...<\/td>\n",
       "      <td>...<\/td>\n",
       "      <td>...<\/td>\n",
       "      <td>...<\/td>\n",
       "    <\/tr>\n",
       "    <tr>\n",
       "      <th>185<\/th>\n",
       "      <td>Waffles<\/td>\n",
       "      <td>Desserts<\/td>\n",
       "      <td>★★★★☆<\/td>\n",
       "      <td>Wheat\\n Milk\\n Egg\\n Any Sweet ( Sugarcane only)<\/td>\n",
       "    <\/tr>\n",
       "    <tr>\n",
       "      <th>186<\/th>\n",
       "      <td>Wedding Cake<\/td>\n",
       "      <td>Desserts<\/td>\n",
       "      <td>★★★★★<\/td>\n",
       "      <td>Butter Sugarcane Vanilla Egg Wheat<\/td>\n",
       "    <\/tr>\n",
       "    <tr>\n",
       "      <th>187<\/th>\n",
       "      <td>Whimsical Pie<\/td>\n",
       "      <td>Desserts<\/td>\n",
       "      <td>★★★☆☆<\/td>\n",
       "      <td>Dreamlight Fruit Wheat Butter<\/td>\n",
       "    <\/tr>\n",
       "    <tr>\n",
       "      <th>188<\/th>\n",
       "      <td>Wonderland Cookies<\/td>\n",
       "      <td>Desserts<\/td>\n",
       "      <td>★★★★☆<\/td>\n",
       "      <td>Butter Sugarcane Vanilla Wheat<\/td>\n",
       "    <\/tr>\n",
       "    <tr>\n",
       "      <th>189<\/th>\n",
       "      <td>Yule Log<\/td>\n",
       "      <td>Desserts<\/td>\n",
       "      <td>★★★★☆<\/td>\n",
       "      <td>Wheat Cocoa Bean Vanilla Cherry<\/td>\n",
       "    <\/tr>\n",
       "  <\/tbody>\n",
       "<\/table>\n",
       "<p>190 rows × 4 columns<\/p>\n",
       "<\/div>"
      ]
     },
     "metadata":{
      
     },
     "output_type":"display_data"
    }
   ],
   "metadata":{
    "datalore":{
     "node_id":"CRu5dMbbbbIs1aLi3BBhfr",
     "type":"CODE",
     "hide_input_from_viewers":false,
     "hide_output_from_viewers":false,
     "report_properties":{
      "rowId":"tzwlav8eDLKW190rzsECKW"
     }
    }
   }
  },
  {
   "cell_type":"code",
   "source":[
    
   ],
   "execution_count":null,
   "outputs":[
    
   ],
   "metadata":{
    "datalore":{
     "node_id":"JcrsF5TTqfHYfNirbfDSkS",
     "type":"CODE",
     "hide_input_from_viewers":true,
     "hide_output_from_viewers":true
    }
   }
  },
  {
   "cell_type":"code",
   "source":[
    "df.to_csv('Web_Scrape_DDV_Fandom_Recipes(Trimmed).csv')"
   ],
   "execution_count":20,
   "outputs":[
    
   ],
   "metadata":{
    "datalore":{
     "node_id":"l5rHeeKnuCGaEaYirFeP0w",
     "type":"CODE",
     "hide_input_from_viewers":true,
     "hide_output_from_viewers":true
    }
   }
  }
 ],
 "metadata":{
  "kernelspec":{
   "display_name":"Python",
   "language":"python",
   "name":"python"
  },
  "datalore":{
   "computation_mode":"JUPYTER",
   "package_manager":"pip",
   "base_environment":"default",
   "packages":[
    
   ],
   "report_row_ids":[
    "vZ7cshlcsRoWxyv9TT5a7Q",
    "pu1zhfyJDRJy93OaC5OvFF",
    "jZOKlnLS8iv9LyqIZnOdkh",
    "1gZeUcbV7UIPYIu9sVwrXv",
    "QaqAVDnTVwZlaad6qGfo4u",
    "TvKQMGKBZUzzYTi2PIG5nz",
    "UqjHOgNzF363eKOKKIDta4",
    "M7fgAbTdEXbKZdmJmhGnv8",
    "9HWeNxrmxVadSEKqpY8jUf",
    "NUeRRVft3T06FwXoahgE8E",
    "gfvJ8mXWTFBRuDIM5JLqpl",
    "0sIOdJtfli02AkhbMKeRe9",
    "cuAiWcCHNYAoguPdql9z7A",
    "tzwlav8eDLKW190rzsECKW"
   ],
   "version":3
  }
 },
 "nbformat":4,
 "nbformat_minor":4
}